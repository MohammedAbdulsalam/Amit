{
  "nbformat": 4,
  "nbformat_minor": 0,
  "metadata": {
    "colab": {
      "provenance": []
    },
    "kernelspec": {
      "name": "python3",
      "display_name": "Python 3"
    },
    "language_info": {
      "name": "python"
    }
  },
  "cells": [
    {
      "cell_type": "markdown",
      "source": [
        "## 1. Write a NumPy program to test whether none of the elements of a given array is zero.\n"
      ],
      "metadata": {
        "id": "mnmFXbLWGKC1"
      }
    },
    {
      "cell_type": "code",
      "source": [
        "import numpy as np"
      ],
      "metadata": {
        "id": "QpepU1OlLE05"
      },
      "execution_count": 5,
      "outputs": []
    },
    {
      "cell_type": "code",
      "execution_count": 7,
      "metadata": {
        "colab": {
          "base_uri": "https://localhost:8080/"
        },
        "id": "ZZPUTPxJFwKE",
        "outputId": "6fe0846b-57a2-42e4-db24-fee02351d839"
      },
      "outputs": [
        {
          "output_type": "stream",
          "name": "stdout",
          "text": [
            "check of zero =  True\n",
            "check of zero =  False\n"
          ]
        }
      ],
      "source": [
        "element1 = np.array([1, 2, 3, 4])\n",
        "print(f\"check of zero =  {np.all(element1)}\")\n",
        "element2 = np.array([0, 5, 7, 9])\n",
        "print(f\"check of zero =  {np.all(element2)}\")\n"
      ]
    },
    {
      "cell_type": "markdown",
      "source": [
        "2. Write a NumPy program to test whether any of the elements of a given array is non-zero.\n"
      ],
      "metadata": {
        "id": "kPAc97XKK168"
      }
    },
    {
      "cell_type": "code",
      "source": [
        "x = np.array([1, 0, 0, 0])\n",
        "print(x)\n",
        "print(f\" check of non zero array : {np.any(x)}\")\n",
        "y = np.array([0, 0, 0, 0])\n",
        "print(y)\n",
        "print(f\" check of non zero array : {np.any(y)}\")\n"
      ],
      "metadata": {
        "colab": {
          "base_uri": "https://localhost:8080/"
        },
        "id": "IUX1ygipK9wQ",
        "outputId": "53d2d7f4-120a-4f01-c90a-f953b9345e6c"
      },
      "execution_count": 21,
      "outputs": [
        {
          "output_type": "stream",
          "name": "stdout",
          "text": [
            "[1 0 0 0]\n",
            " check of non zero array : True\n",
            "[0 0 0 0]\n",
            " check of non zero array : False\n"
          ]
        }
      ]
    },
    {
      "cell_type": "markdown",
      "source": [
        "3. Write a NumPy program to create an element-wise comparison (equal, equal within a tolerance) of two\n",
        "given"
      ],
      "metadata": {
        "id": "phmmTOvyOTbu"
      }
    },
    {
      "cell_type": "code",
      "source": [],
      "metadata": {
        "id": "24E1c-hrOXuM"
      },
      "execution_count": null,
      "outputs": []
    },
    {
      "cell_type": "markdown",
      "source": [
        "4. Write a NumPy program to create an array of 10 zeros,10 ones, 10 fives.\n"
      ],
      "metadata": {
        "id": "7lRB-xEBPRc1"
      }
    },
    {
      "cell_type": "code",
      "source": [
        "zeros_array = np.zeros(10)\n",
        "ones_array = np.ones(10)\n",
        "fives_array = 5 * np.ones(10)\n",
        "print(f\"Array of 10 zeros & 10 ones & 10 fives: {zeros_array} , {ones_array} , {fives_array} \")\n"
      ],
      "metadata": {
        "colab": {
          "base_uri": "https://localhost:8080/"
        },
        "id": "kMlDjDZ5PWWe",
        "outputId": "fd55802d-944c-4817-ab97-a54b0f485dee"
      },
      "execution_count": 28,
      "outputs": [
        {
          "output_type": "stream",
          "name": "stdout",
          "text": [
            "Array of 10 zeros & 10 ones & 10 fives: [0. 0. 0. 0. 0. 0. 0. 0. 0. 0.] , [1. 1. 1. 1. 1. 1. 1. 1. 1. 1.] , [5. 5. 5. 5. 5. 5. 5. 5. 5. 5.] \n"
          ]
        }
      ]
    },
    {
      "cell_type": "markdown",
      "source": [
        "5. Write a NumPy program to create an array of the integers from 30 to70."
      ],
      "metadata": {
        "id": "KIaGS7FURQRG"
      }
    },
    {
      "cell_type": "code",
      "source": [
        "array = np.arange(30, 71)\n",
        "print(f\"Array of the integers from 30 to 70 = \\n {array}\")"
      ],
      "metadata": {
        "colab": {
          "base_uri": "https://localhost:8080/"
        },
        "id": "fMSsQ9rfRQ7Z",
        "outputId": "43824d52-a8e3-4759-9605-df953dfbbee0"
      },
      "execution_count": 40,
      "outputs": [
        {
          "output_type": "stream",
          "name": "stdout",
          "text": [
            "Array of the integers from 30 to 70 = \n",
            " [30 31 32 33 34 35 36 37 38 39 40 41 42 43 44 45 46 47 48 49 50 51 52 53\n",
            " 54 55 56 57 58 59 60 61 62 63 64 65 66 67 68 69 70]\n"
          ]
        }
      ]
    },
    {
      "cell_type": "markdown",
      "source": [
        "6. Write a NumPy program to create a 3x3 identity matrix\n"
      ],
      "metadata": {
        "id": "xTzwSFKiT4Cd"
      }
    },
    {
      "cell_type": "code",
      "source": [
        "identity_matrix = np.eye(3,3)\n",
        "print(f\" identity matrix for 3x3 = \\n {identity_matrix}\")"
      ],
      "metadata": {
        "colab": {
          "base_uri": "https://localhost:8080/"
        },
        "id": "ktyDMNgjT7YM",
        "outputId": "a32fdd88-017f-4393-ea78-44b456c5ff33"
      },
      "execution_count": 48,
      "outputs": [
        {
          "output_type": "stream",
          "name": "stdout",
          "text": [
            " identity matrix for 3x3 = \n",
            " [[1. 0. 0.]\n",
            " [0. 1. 0.]\n",
            " [0. 0. 1.]]\n"
          ]
        }
      ]
    },
    {
      "cell_type": "markdown",
      "source": [
        "7. Write a NumPy program to generate a random number between 0 and 1\n"
      ],
      "metadata": {
        "id": "Ua4iOLHAVEHc"
      }
    },
    {
      "cell_type": "code",
      "source": [
        "random_number = np.random.random()\n",
        "print(f\"random number between 0 and 1 = {random_number}\")"
      ],
      "metadata": {
        "colab": {
          "base_uri": "https://localhost:8080/"
        },
        "id": "A4AFjovEVkIq",
        "outputId": "00269649-5d15-4c4e-81b1-a75f0bb4d9b9"
      },
      "execution_count": 64,
      "outputs": [
        {
          "output_type": "stream",
          "name": "stdout",
          "text": [
            "random number between 0 and 1 = 0.5781555129442957\n"
          ]
        }
      ]
    },
    {
      "cell_type": "markdown",
      "source": [
        "8. Write a NumPy program to generate an array of 15 random numbers from a standard normal\n",
        "distribution"
      ],
      "metadata": {
        "id": "GvJtYOnQXGGv"
      }
    },
    {
      "cell_type": "code",
      "source": [
        "standard_normal_distribution = np.random.randn(15)\n",
        "print(standard_normal_distribution)"
      ],
      "metadata": {
        "colab": {
          "base_uri": "https://localhost:8080/"
        },
        "id": "30sMgVlcXKMw",
        "outputId": "c254e01b-f4e4-487c-e51a-481a65495d85"
      },
      "execution_count": 70,
      "outputs": [
        {
          "output_type": "stream",
          "name": "stdout",
          "text": [
            "[ 1.41240784 -1.20389591  0.0253038   1.35226299 -0.97985724  1.02890097\n",
            "  1.14454077  1.06816151  1.2391147  -0.42654204 -1.04621714  0.18613943\n",
            "  0.90127003 -0.8974938   0.00549104]\n"
          ]
        }
      ]
    },
    {
      "cell_type": "markdown",
      "source": [
        "9. Write a NumPy program to create a vector with values ranging from 15 to 55 and print all values\n",
        "except the first and last.\n"
      ],
      "metadata": {
        "id": "m_Da-tXRfIE3"
      }
    },
    {
      "cell_type": "code",
      "source": [
        "vector = np.arange(15, 56)\n",
        "print(f\"original value of vector = \\n {vector}\")\n",
        "vector = vector[1:-1]\n",
        "print(f\"new value of vector = \\n {vector}\")"
      ],
      "metadata": {
        "colab": {
          "base_uri": "https://localhost:8080/"
        },
        "id": "e0HdRNlQfMkY",
        "outputId": "a0a4be2f-d336-4646-dae9-ecae8895fa7c"
      },
      "execution_count": 76,
      "outputs": [
        {
          "output_type": "stream",
          "name": "stdout",
          "text": [
            "original value of vector = \n",
            " [15 16 17 18 19 20 21 22 23 24 25 26 27 28 29 30 31 32 33 34 35 36 37 38\n",
            " 39 40 41 42 43 44 45 46 47 48 49 50 51 52 53 54 55]\n",
            "new value of vector = \n",
            " [16 17 18 19 20 21 22 23 24 25 26 27 28 29 30 31 32 33 34 35 36 37 38 39\n",
            " 40 41 42 43 44 45 46 47 48 49 50 51 52 53 54]\n"
          ]
        }
      ]
    },
    {
      "cell_type": "markdown",
      "source": [
        "10. Write a NumPy program to create a vector of length 5 filled with arbitrary integers from 0 to 10"
      ],
      "metadata": {
        "id": "yB2FbEAbgMq3"
      }
    },
    {
      "cell_type": "code",
      "source": [
        "arbitrary_integers = np.random.randint(0, 11, 5)\n",
        "print(f\"arbitrary integers from 0 to 10 = \\n {arbitrary_integers}\")"
      ],
      "metadata": {
        "colab": {
          "base_uri": "https://localhost:8080/"
        },
        "id": "fu3Y7J09gSkw",
        "outputId": "b4424430-bd09-4172-d7a8-652f5cd72f6a"
      },
      "execution_count": 79,
      "outputs": [
        {
          "output_type": "stream",
          "name": "stdout",
          "text": [
            "arbitrary integers from 0 to 10 = \n",
            " [9 6 7 4 1]\n"
          ]
        }
      ]
    },
    {
      "cell_type": "markdown",
      "source": [
        "11. Write a NumPy program to create a 10x10 matrix, in which the elements on the borders will be equal\n",
        "to 1, and inside 0."
      ],
      "metadata": {
        "id": "0NFpnVZYlojr"
      }
    },
    {
      "cell_type": "code",
      "source": [
        "x = np.ones((10, 10))\n",
        "x[1:-1, 1:-1] = 0\n",
        "print(x)"
      ],
      "metadata": {
        "colab": {
          "base_uri": "https://localhost:8080/"
        },
        "id": "gSBlxY6blvK6",
        "outputId": "5a030f16-ede0-456e-a2ee-80989fcff895"
      },
      "execution_count": 85,
      "outputs": [
        {
          "output_type": "stream",
          "name": "stdout",
          "text": [
            "[[1. 1. 1. 1. 1. 1. 1. 1. 1. 1.]\n",
            " [1. 0. 0. 0. 0. 0. 0. 0. 0. 1.]\n",
            " [1. 0. 0. 0. 0. 0. 0. 0. 0. 1.]\n",
            " [1. 0. 0. 0. 0. 0. 0. 0. 0. 1.]\n",
            " [1. 0. 0. 0. 0. 0. 0. 0. 0. 1.]\n",
            " [1. 0. 0. 0. 0. 0. 0. 0. 0. 1.]\n",
            " [1. 0. 0. 0. 0. 0. 0. 0. 0. 1.]\n",
            " [1. 0. 0. 0. 0. 0. 0. 0. 0. 1.]\n",
            " [1. 0. 0. 0. 0. 0. 0. 0. 0. 1.]\n",
            " [1. 1. 1. 1. 1. 1. 1. 1. 1. 1.]]\n"
          ]
        }
      ]
    },
    {
      "cell_type": "markdown",
      "source": [
        "Write a NumPy program to create a 5x5 zero matrix with elements on the main diagonal equal to 1, 2,\n",
        "3, 4, 5."
      ],
      "metadata": {
        "id": "IXt6EqsLmdoB"
      }
    },
    {
      "cell_type": "code",
      "source": [
        "diagonal_matrix = np.diag([1, 2, 3, 4, 5])\n",
        "print(diagonal_matrix)"
      ],
      "metadata": {
        "colab": {
          "base_uri": "https://localhost:8080/"
        },
        "id": "fthlWd_rmhWo",
        "outputId": "f1e7980b-107b-4c6e-b679-a5711e223939"
      },
      "execution_count": 88,
      "outputs": [
        {
          "output_type": "stream",
          "name": "stdout",
          "text": [
            "[[1 0 0 0 0]\n",
            " [0 2 0 0 0]\n",
            " [0 0 3 0 0]\n",
            " [0 0 0 4 0]\n",
            " [0 0 0 0 5]]\n"
          ]
        }
      ]
    },
    {
      "cell_type": "markdown",
      "source": [],
      "metadata": {
        "id": "z8_d7u4Fm3yQ"
      }
    },
    {
      "cell_type": "markdown",
      "source": [
        "Write a NumPy program to create a 4x4 matrix in which 0 and 1 are staggered, with zeros on the main\n",
        "diagonal."
      ],
      "metadata": {
        "id": "682j_3xCpHBf"
      }
    },
    {
      "cell_type": "code",
      "source": [
        "matrix = np.zeros((4, 4))\n",
        "matrix[::2, 1::2] = 1\n",
        "matrix[1::2, ::2] = 1\n",
        "print(matrix)"
      ],
      "metadata": {
        "colab": {
          "base_uri": "https://localhost:8080/"
        },
        "id": "JV2Fee9SpLl2",
        "outputId": "023bf2d1-f3c4-445a-a742-45b43aa60771"
      },
      "execution_count": 89,
      "outputs": [
        {
          "output_type": "stream",
          "name": "stdout",
          "text": [
            "[[0. 1. 0. 1.]\n",
            " [1. 0. 1. 0.]\n",
            " [0. 1. 0. 1.]\n",
            " [1. 0. 1. 0.]]\n"
          ]
        }
      ]
    },
    {
      "cell_type": "markdown",
      "source": [
        "14. Write a NumPy program to save two given arrays into a single file in compressed format (.npz format)\n",
        "and load it.\n",
        "\n",
        "---\n",
        "\n"
      ],
      "metadata": {
        "id": "_H28Ag5MpoL3"
      }
    },
    {
      "cell_type": "code",
      "source": [
        "array1 = np.array([1, 2, 3])\n",
        "array2 = np.array([4, 5, 6])\n",
        "compressed_array = np.savez('compressed_array.npz', array1, array2)\n",
        "y = np.load('compressed_array.npz')\n",
        "print(y)"
      ],
      "metadata": {
        "colab": {
          "base_uri": "https://localhost:8080/"
        },
        "id": "QM7Qwoe-p24a",
        "outputId": "95f2d63f-ef22-4be8-fc49-569135aba3b3"
      },
      "execution_count": 100,
      "outputs": [
        {
          "output_type": "stream",
          "name": "stdout",
          "text": [
            "NpzFile 'compressed_array.npz' with keys: arr_0, arr_1\n"
          ]
        }
      ]
    },
    {
      "cell_type": "markdown",
      "source": [
        "15. Write a NumPy program to create a one-dimensional array of forty pseudo-randomly generated values.\n",
        "Select"
      ],
      "metadata": {
        "id": "KejkTHQdptzw"
      }
    },
    {
      "cell_type": "code",
      "source": [
        "random_values = np.random.rand(40)\n",
        "print(f\"Randomly generated values= \\n {random_values}\")"
      ],
      "metadata": {
        "colab": {
          "base_uri": "https://localhost:8080/"
        },
        "id": "pEccD43Gtj9c",
        "outputId": "119c124f-0d81-44cc-ebee-0fd17f669ac8"
      },
      "execution_count": 110,
      "outputs": [
        {
          "output_type": "stream",
          "name": "stdout",
          "text": [
            "Randomly generated values= \n",
            " [0.88330609 0.62367221 0.75094243 0.34889834 0.26992789 0.89588622\n",
            " 0.42809119 0.96484005 0.6634415  0.62169572 0.11474597 0.94948926\n",
            " 0.44991213 0.57838961 0.4081368  0.23702698 0.90337952 0.57367949\n",
            " 0.00287033 0.61714491 0.3266449  0.5270581  0.8859421  0.35726976\n",
            " 0.90853515 0.62336012 0.01582124 0.92943723 0.69089692 0.99732285\n",
            " 0.17234051 0.13713575 0.93259546 0.69681816 0.06600017 0.75546305\n",
            " 0.75387619 0.92302454 0.71152476 0.12427096]\n"
          ]
        }
      ]
    },
    {
      "cell_type": "markdown",
      "source": [
        "16. Write a NumPy program to extract all numbers from a given array which are less and greater than a\n",
        "specified number"
      ],
      "metadata": {
        "id": "QWrQD7KCpxT7"
      }
    },
    {
      "cell_type": "code",
      "source": [
        "value = int(input(\"Enter a value: \"))\n",
        "x = np.array([[1,3,5,7,9] , [2,4,6,8,10]])\n",
        "y = np.extract(x > value, x)\n",
        "print(f\"Numbers greater than {value} = \\n {y}\")"
      ],
      "metadata": {
        "colab": {
          "base_uri": "https://localhost:8080/"
        },
        "id": "-i5qc5vTp2Cv",
        "outputId": "88010bc4-d289-4637-8683-4771a283494a"
      },
      "execution_count": 123,
      "outputs": [
        {
          "output_type": "stream",
          "name": "stdout",
          "text": [
            "Enter a value: 5\n",
            "Numbers greater than 5 = \n",
            " [ 7  9  6  8 10]\n"
          ]
        }
      ]
    }
  ]
}