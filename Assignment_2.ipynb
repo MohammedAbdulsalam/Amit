{
  "nbformat": 4,
  "nbformat_minor": 0,
  "metadata": {
    "colab": {
      "private_outputs": true,
      "provenance": []
    },
    "kernelspec": {
      "name": "python3",
      "display_name": "Python 3"
    },
    "language_info": {
      "name": "python"
    }
  },
  "cells": [
    {
      "cell_type": "markdown",
      "source": [
        "### 1) Write a program to print the maximum between two numbers. (one-line conditional statement)\n"
      ],
      "metadata": {
        "id": "Ui8LKXjlii3V"
      }
    },
    {
      "cell_type": "code",
      "source": [
        "num1=int(input(\"Enter a number: \"))\n",
        "num2=int(input(\"Enter a number: \"))\n",
        "if num1>num2:\n",
        "    print(\"the maximum number is num1:\", num1,)\n",
        "else:\n",
        "    print(\"the maximum number is num2:\", num2)"
      ],
      "metadata": {
        "id": "SvJn-3mZsQfP"
      },
      "execution_count": null,
      "outputs": []
    },
    {
      "cell_type": "markdown",
      "source": [
        "### 2) Write a program to find the maximum between three numbers.\n"
      ],
      "metadata": {
        "id": "xQB_yP4rirZS"
      }
    },
    {
      "cell_type": "code",
      "source": [
        "list = [4, 6, 8]\n",
        "maximum = max(list)\n",
        "print(maximum)\n"
      ],
      "metadata": {
        "id": "JfosBFDVvKSf"
      },
      "execution_count": null,
      "outputs": []
    },
    {
      "cell_type": "markdown",
      "source": [
        "### 3) Write a program to check whether a number is negative, or positive (one-line conditional statement)\n"
      ],
      "metadata": {
        "id": "di3xEq8mjBRK"
      }
    },
    {
      "cell_type": "code",
      "source": [
        "x = float(input(\"Enter a number: \"))\n",
        "result = \"positive\" if x > 0 else (\"negative\" if x < 0 else \"zero\")\n",
        "print(result)\n"
      ],
      "metadata": {
        "id": "f8B_S2mEvxYd"
      },
      "execution_count": null,
      "outputs": []
    },
    {
      "cell_type": "markdown",
      "source": [
        "### 4) Write a  program to check whether a number is even or odd  (one-line statement).\n"
      ],
      "metadata": {
        "id": "grc5Gk_RjFBe"
      }
    },
    {
      "cell_type": "code",
      "source": [
        "x = float(input(\"Enter a number\"))\n",
        "result = \"even\" if x % 2 == 0 else \"odd\"\n",
        "print(result)\n"
      ],
      "metadata": {
        "id": "ipdLO52NxGD9"
      },
      "execution_count": null,
      "outputs": []
    },
    {
      "cell_type": "markdown",
      "source": [
        "###5) Write a  program to check whether a year is a leap year or not. (one-line conditional statement).\n"
      ],
      "metadata": {
        "id": "-J3UtjpIjJPv"
      }
    },
    {
      "cell_type": "code",
      "source": [
        "x = int(input(\"Enter a year: \"))\n",
        "y = ( \"is a leap year\" if x % 4 == 0 else \"is not a leap year\")\n",
        "\n",
        "print(y)\n"
      ],
      "metadata": {
        "id": "kfxFI25JVeaE"
      },
      "execution_count": null,
      "outputs": []
    },
    {
      "cell_type": "markdown",
      "source": [
        "###6) Write a  program to store the weekdays in a list and access the week day and print it by index.\n"
      ],
      "metadata": {
        "id": "JeN4yaIMjNlC"
      }
    },
    {
      "cell_type": "code",
      "source": [
        "days = [\"Monday\", \"Tuesday\", \"Wednesday\", \"Thursday\", \"Friday\", \"Saturday\", \"Sunday\"]"
      ],
      "metadata": {
        "id": "vg2ABoeZbW5i"
      },
      "execution_count": null,
      "outputs": []
    },
    {
      "cell_type": "markdown",
      "source": [
        "###7) Write a  program to print all alphabets from a to z using while loop"
      ],
      "metadata": {
        "id": "ST7uKJmtjYh1"
      }
    },
    {
      "cell_type": "code",
      "source": [
        "x = ord('a')\n",
        "while x <= ord('z'):\n",
        "    print(chr(x))\n",
        "    x += 1\n"
      ],
      "metadata": {
        "id": "z4fTuLrfc5PG"
      },
      "execution_count": null,
      "outputs": []
    },
    {
      "cell_type": "markdown",
      "source": [
        "###8)Write a program to store numbers in the List and print its reverse"
      ],
      "metadata": {
        "id": "PkPPTrivjran"
      }
    },
    {
      "cell_type": "markdown",
      "source": [
        "### 9) Write a program to print the multiplcation table of any number"
      ],
      "metadata": {
        "id": "2JoHNIaCj7fR"
      }
    },
    {
      "cell_type": "code",
      "source": [
        "num = int(input(\"Enter the number: \"))\n",
        "for i in range(1, 12):\n",
        "   print(num,\"X\",i,\"=\",num * i)"
      ],
      "metadata": {
        "id": "FcPvRhhHirJd"
      },
      "execution_count": null,
      "outputs": []
    },
    {
      "cell_type": "markdown",
      "source": [
        "###10)Write a program to print all even numbers between 1 to 100.(using while loop)"
      ],
      "metadata": {
        "id": "WTIX9yh1kLs-"
      }
    },
    {
      "cell_type": "code",
      "source": [
        "num = 1\n",
        "while num <= 100:\n",
        "    if num % 2 == 0:\n",
        "        print(num)\n",
        "    num += 1"
      ],
      "metadata": {
        "id": "ar0pJTpbjLS5"
      },
      "execution_count": null,
      "outputs": []
    }
  ]
}