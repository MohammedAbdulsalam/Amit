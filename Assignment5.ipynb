{
  "nbformat": 4,
  "nbformat_minor": 0,
  "metadata": {
    "colab": {
      "provenance": []
    },
    "kernelspec": {
      "name": "python3",
      "display_name": "Python 3"
    },
    "language_info": {
      "name": "python"
    }
  },
  "cells": [
    {
      "cell_type": "code",
      "source": [
        "class Rectangle:\n",
        "    def __init__(self, length , width):\n",
        "        self.length = length\n",
        "        self.width = width\n",
        "    def Perimeter(self):\n",
        "        return 2*(self.length + self.width)\n",
        "    def Area(self):\n",
        "        return self.length*self.width\n",
        "    def display(self):\n",
        "        print(\"rectangle length : \", self.length)\n",
        "        print(\" rectangle width: \", self.width)\n",
        "        print(\" rectangle perimeter : \", self.Perimeter())\n",
        "        print(\"rectangle area: \", self.Area())\n",
        "class Parallelepipede(Rectangle):\n",
        "    def __init__(self, length, width , height):\n",
        "        Rectangle.__init__(self, length, width)\n",
        "        self.height = height\n",
        "    def volume(self):\n",
        "        return self.length*self.width*self.height\n",
        "x = Rectangle(9 , 12)\n",
        "x.display()\n",
        "y = Parallelepipede(9 , 12 , 4)\n",
        "print(f\"Parallelepipede volume :  {y.volume()}\")"
      ],
      "metadata": {
        "colab": {
          "base_uri": "https://localhost:8080/"
        },
        "id": "RkA5MFgf9MZe",
        "outputId": "858cf9c6-594b-445d-c3b5-8c92fffe975e"
      },
      "execution_count": 24,
      "outputs": [
        {
          "output_type": "stream",
          "name": "stdout",
          "text": [
            "rectangle length :  9\n",
            " rectangle width:  12\n",
            " rectangle perimeter :  42\n",
            "rectangle area:  108\n",
            "Parallelepipede volume :  432\n"
          ]
        }
      ]
    },
    {
      "cell_type": "code",
      "source": [
        "class Person():\n",
        "  def __init__(self, name, age):\n",
        "    self.name = name\n",
        "    self.age = age\n",
        "  def dispaly (self):\n",
        "    print(f\"Name : {self.name}, Age : {self.age}\")\n",
        "class Student(Person):\n",
        "  def __init__(self, name, age, section):\n",
        "    super().__init__(name, age)\n",
        "    self.section = section\n",
        "  def display(self):\n",
        "    print(f\"Name : {self.name}, Age : {self.age}, Section : {self.section}\")\n",
        "x = Student(\"Mohammed\", 18, \"Computer science\")\n",
        "x.display()\n",
        "y = Person(\"Ahmed\", 16)\n",
        "y.dispaly()\n"
      ],
      "metadata": {
        "colab": {
          "base_uri": "https://localhost:8080/"
        },
        "id": "bdNo9kuCAI40",
        "outputId": "1ad283a7-17ce-42e4-d962-47c0c37015ff"
      },
      "execution_count": 14,
      "outputs": [
        {
          "output_type": "stream",
          "name": "stdout",
          "text": [
            "Name : Mohammed, Age : 18, Section : Computer science\n",
            "Name : Ahmed, Age : 16\n"
          ]
        }
      ]
    },
    {
      "cell_type": "code",
      "source": [],
      "metadata": {
        "id": "hsSTYdk9BkHb"
      },
      "execution_count": null,
      "outputs": []
    }
  ]
}